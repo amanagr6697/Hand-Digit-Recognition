{
  "nbformat": 4,
  "nbformat_minor": 0,
  "metadata": {
    "colab": {
      "name": "Hand Written Digit Recognition.ipynb",
      "provenance": [],
      "authorship_tag": "ABX9TyM2kuDYxkZJVVgpm3ChJ8Pr",
      "include_colab_link": true
    },
    "kernelspec": {
      "name": "python3",
      "display_name": "Python 3"
    },
    "language_info": {
      "name": "python"
    }
  },
  "cells": [
    {
      "cell_type": "markdown",
      "metadata": {
        "id": "view-in-github",
        "colab_type": "text"
      },
      "source": [
        "<a href=\"https://colab.research.google.com/github/amanagr6697/Hand-Digit-Recognition/blob/main/Hand_Written_Digit_Recognition.ipynb\" target=\"_parent\"><img src=\"https://colab.research.google.com/assets/colab-badge.svg\" alt=\"Open In Colab\"/></a>"
      ]
    },
    {
      "cell_type": "code",
      "execution_count": 3,
      "metadata": {
        "id": "fdzzowQxHDYg"
      },
      "outputs": [],
      "source": [
        "#Loading libraries \n",
        "import tensorflow as tf\n",
        "from tensorflow import keras\n",
        "import matplotlib.pyplot as plt\n",
        "import numpy as np\n",
        "import pandas as pd"
      ]
    },
    {
      "cell_type": "code",
      "source": [
        "#Loading dataset\n",
        "mnist_dataset=keras.datasets.mnist"
      ],
      "metadata": {
        "id": "YN5hhz6y_7zd"
      },
      "execution_count": 4,
      "outputs": []
    },
    {
      "cell_type": "code",
      "source": [
        "#Taking testing and training data\n",
        "(train_x,train_y),(test_x,test_y)=mnist_dataset.load_data()"
      ],
      "metadata": {
        "colab": {
          "base_uri": "https://localhost:8080/"
        },
        "id": "Js03yx4QCXW-",
        "outputId": "c7af0492-5837-4958-9a8c-dba80c5dab90"
      },
      "execution_count": 5,
      "outputs": [
        {
          "output_type": "stream",
          "name": "stdout",
          "text": [
            "Downloading data from https://storage.googleapis.com/tensorflow/tf-keras-datasets/mnist.npz\n",
            "11493376/11490434 [==============================] - 0s 0us/step\n",
            "11501568/11490434 [==============================] - 0s 0us/step\n"
          ]
        }
      ]
    },
    {
      "cell_type": "code",
      "source": [
        "train_x.shape\n",
        "test_x.shape"
      ],
      "metadata": {
        "colab": {
          "base_uri": "https://localhost:8080/"
        },
        "id": "hCUrdOfCDfmh",
        "outputId": "5e02ada1-6348-48d7-9492-a78f6ec76136"
      },
      "execution_count": 6,
      "outputs": [
        {
          "output_type": "execute_result",
          "data": {
            "text/plain": [
              "(10000, 28, 28)"
            ]
          },
          "metadata": {},
          "execution_count": 6
        }
      ]
    },
    {
      "cell_type": "code",
      "source": [
        "#Printing and checking\n",
        "plt.imshow(train_x[2])"
      ],
      "metadata": {
        "colab": {
          "base_uri": "https://localhost:8080/",
          "height": 283
        },
        "id": "wHStNAx4Cvwt",
        "outputId": "d56ba374-ee86-4465-eca3-e2d787e20aba"
      },
      "execution_count": 7,
      "outputs": [
        {
          "output_type": "execute_result",
          "data": {
            "text/plain": [
              "<matplotlib.image.AxesImage at 0x7face6a382d0>"
            ]
          },
          "metadata": {},
          "execution_count": 7
        },
        {
          "output_type": "display_data",
          "data": {
            "text/plain": [
              "<Figure size 432x288 with 1 Axes>"
            ],
            "image/png": "[encoded data removed]"
          },
          "metadata": {
            "needs_background": "light"
          }
        }
      ]
    },
    {
      "cell_type": "code",
      "source": [
        "#Using cmap to convert rgb to binary\n",
        "plt.imshow(train_x[2],cmap=plt.cm.binary)"
      ],
      "metadata": {
        "colab": {
          "base_uri": "https://localhost:8080/",
          "height": 283
        },
        "id": "oDrzBXA6C8Pg",
        "outputId": "42c67655-6322-44e1-99d8-d95b430a1d83"
      },
      "execution_count": 8,
      "outputs": [
        {
          "output_type": "execute_result",
          "data": {
            "text/plain": [
              "<matplotlib.image.AxesImage at 0x7face65249d0>"
            ]
          },
          "metadata": {},
          "execution_count": 8
        },
        {
          "output_type": "display_data",
          "data": {
            "text/plain": [
              "<Figure size 432x288 with 1 Axes>"
            ],
            "image/png": "[encoded data removed]"
          },
          "metadata": {
            "needs_background": "light"
          }
        }
      ]
    },
    {
      "cell_type": "code",
      "source": [
        "#Here actually colors are reversed and actually 4 is as white image on black background\n",
        "print(train_x[2])\n",
        "\n",
        "#Now normalizing it to have values b/w 0 and 1 only instead of 0 to 255 that is /255\n",
        "train_x=keras.utils.normalize(train_x,axis=1)  #Here axis is of not much use as image is square shape so 0/1 both would work fine\n",
        "test_x=keras.utils.normalize(test_x,axis=1)\n",
        "\n",
        "print(train_x[2])"
      ],
      "metadata": {
        "colab": {
          "base_uri": "https://localhost:8080/"
        },
        "id": "IN1aSZC_DHUm",
        "outputId": "32340643-cb05-4e1c-b9f3-0c5bf807e4d7"
      },
      "execution_count": 9,
      "outputs": [
        {
          "output_type": "stream",
          "name": "stdout",
          "text": [
            "[[  0   0   0   0   0   0   0   0   0   0   0   0   0   0   0   0   0   0\n",
            "    0   0   0   0   0   0   0   0   0   0]\n",
            " [  0   0   0   0   0   0   0   0   0   0   0   0   0   0   0   0   0   0\n",
            "    0   0   0   0   0   0   0   0   0   0]\n",
            " [  0   0   0   0   0   0   0   0   0   0   0   0   0   0   0   0   0   0\n",
            "    0   0   0   0   0   0   0   0   0   0]\n",
            " [  0   0   0   0   0   0   0   0   0   0   0   0   0   0   0   0   0   0\n",
            "    0   0   0   0   0   0   0   0   0   0]\n",
            " [  0   0   0   0   0   0   0   0   0   0   0   0   0   0   0   0   0   0\n",
            "    0   0   0   0   0   0   0   0   0   0]\n",
            " [  0   0   0   0   0   0   0   0   0   0   0   0   0   0   0   0   0   0\n",
            "    0   0  67 232  39   0   0   0   0   0]\n",
            " [  0   0   0   0  62  81   0   0   0   0   0   0   0   0   0   0   0   0\n",
            "    0   0 120 180  39   0   0   0   0   0]\n",
            " [  0   0   0   0 126 163   0   0   0   0   0   0   0   0   0   0   0   0\n",
            "    0   2 153 210  40   0   0   0   0   0]\n",
            " [  0   0   0   0 220 163   0   0   0   0   0   0   0   0   0   0   0   0\n",
            "    0  27 254 162   0   0   0   0   0   0]\n",
            " [  0   0   0   0 222 163   0   0   0   0   0   0   0   0   0   0   0   0\n",
            "    0 183 254 125   0   0   0   0   0   0]\n",
            " [  0   0   0  46 245 163   0   0   0   0   0   0   0   0   0   0   0   0\n",
            "    0 198 254  56   0   0   0   0   0   0]\n",
            " [  0   0   0 120 254 163   0   0   0   0   0   0   0   0   0   0   0   0\n",
            "   23 231 254  29   0   0   0   0   0   0]\n",
            " [  0   0   0 159 254 120   0   0   0   0   0   0   0   0   0   0   0   0\n",
            "  163 254 216  16   0   0   0   0   0   0]\n",
            " [  0   0   0 159 254  67   0   0   0   0   0   0   0   0   0  14  86 178\n",
            "  248 254  91   0   0   0   0   0   0   0]\n",
            " [  0   0   0 159 254  85   0   0   0  47  49 116 144 150 241 243 234 179\n",
            "  241 252  40   0   0   0   0   0   0   0]\n",
            " [  0   0   0 150 253 237 207 207 207 253 254 250 240 198 143  91  28   5\n",
            "  233 250   0   0   0   0   0   0   0   0]\n",
            " [  0   0   0   0 119 177 177 177 177 177  98  56   0   0   0   0   0 102\n",
            "  254 220   0   0   0   0   0   0   0   0]\n",
            " [  0   0   0   0   0   0   0   0   0   0   0   0   0   0   0   0   0 169\n",
            "  254 137   0   0   0   0   0   0   0   0]\n",
            " [  0   0   0   0   0   0   0   0   0   0   0   0   0   0   0   0   0 169\n",
            "  254  57   0   0   0   0   0   0   0   0]\n",
            " [  0   0   0   0   0   0   0   0   0   0   0   0   0   0   0   0   0 169\n",
            "  254  57   0   0   0   0   0   0   0   0]\n",
            " [  0   0   0   0   0   0   0   0   0   0   0   0   0   0   0   0   0 169\n",
            "  255  94   0   0   0   0   0   0   0   0]\n",
            " [  0   0   0   0   0   0   0   0   0   0   0   0   0   0   0   0   0 169\n",
            "  254  96   0   0   0   0   0   0   0   0]\n",
            " [  0   0   0   0   0   0   0   0   0   0   0   0   0   0   0   0   0 169\n",
            "  254 153   0   0   0   0   0   0   0   0]\n",
            " [  0   0   0   0   0   0   0   0   0   0   0   0   0   0   0   0   0 169\n",
            "  255 153   0   0   0   0   0   0   0   0]\n",
            " [  0   0   0   0   0   0   0   0   0   0   0   0   0   0   0   0   0  96\n",
            "  254 153   0   0   0   0   0   0   0   0]\n",
            " [  0   0   0   0   0   0   0   0   0   0   0   0   0   0   0   0   0   0\n",
            "    0   0   0   0   0   0   0   0   0   0]\n",
            " [  0   0   0   0   0   0   0   0   0   0   0   0   0   0   0   0   0   0\n",
            "    0   0   0   0   0   0   0   0   0   0]\n",
            " [  0   0   0   0   0   0   0   0   0   0   0   0   0   0   0   0   0   0\n",
            "    0   0   0   0   0   0   0   0   0   0]]\n",
            "[[0.         0.         0.         0.         0.         0.\n",
            "  0.         0.         0.         0.         0.         0.\n",
            "  0.         0.         0.         0.         0.         0.\n",
            "  0.         0.         0.         0.         0.         0.\n",
            "  0.         0.         0.         0.        ]\n",
            " [0.         0.         0.         0.         0.         0.\n",
            "  0.         0.         0.         0.         0.         0.\n",
            "  0.         0.         0.         0.         0.         0.\n",
            "  0.         0.         0.         0.         0.         0.\n",
            "  0.         0.         0.         0.        ]\n",
            " [0.         0.         0.         0.         0.         0.\n",
            "  0.         0.         0.         0.         0.         0.\n",
            "  0.         0.         0.         0.         0.         0.\n",
            "  0.         0.         0.         0.         0.         0.\n",
            "  0.         0.         0.         0.        ]\n",
            " [0.         0.         0.         0.         0.         0.\n",
            "  0.         0.         0.         0.         0.         0.\n",
            "  0.         0.         0.         0.         0.         0.\n",
            "  0.         0.         0.         0.         0.         0.\n",
            "  0.         0.         0.         0.        ]\n",
            " [0.         0.         0.         0.         0.         0.\n",
            "  0.         0.         0.         0.         0.         0.\n",
            "  0.         0.         0.         0.         0.         0.\n",
            "  0.         0.         0.         0.         0.         0.\n",
            "  0.         0.         0.         0.        ]\n",
            " [0.         0.         0.         0.         0.         0.\n",
            "  0.         0.         0.         0.         0.         0.\n",
            "  0.         0.         0.         0.         0.         0.\n",
            "  0.         0.         0.11215074 0.55234025 0.57241636 0.\n",
            "  0.         0.         0.         0.        ]\n",
            " [0.         0.         0.         0.         0.08650726 0.16103093\n",
            "  0.         0.         0.         0.         0.         0.\n",
            "  0.         0.         0.         0.         0.         0.\n",
            "  0.         0.         0.20086699 0.42853985 0.57241636 0.\n",
            "  0.         0.         0.         0.        ]\n",
            " [0.         0.         0.         0.         0.17580507 0.3240499\n",
            "  0.         0.         0.         0.         0.         0.\n",
            "  0.         0.         0.         0.         0.         0.\n",
            "  0.         0.00271221 0.25610542 0.49996316 0.5870937  0.\n",
            "  0.         0.         0.         0.        ]\n",
            " [0.         0.         0.         0.         0.30696124 0.3240499\n",
            "  0.         0.         0.         0.         0.         0.\n",
            "  0.         0.         0.         0.         0.         0.\n",
            "  0.         0.03661479 0.42516847 0.38568586 0.         0.\n",
            "  0.         0.         0.         0.        ]\n",
            " [0.         0.         0.         0.         0.3097518  0.3240499\n",
            "  0.         0.         0.         0.         0.         0.\n",
            "  0.         0.         0.         0.         0.         0.\n",
            "  0.         0.24816691 0.42516847 0.29759712 0.         0.\n",
            "  0.         0.         0.         0.        ]\n",
            " [0.         0.         0.         0.13572983 0.3418432  0.3240499\n",
            "  0.         0.         0.         0.         0.         0.\n",
            "  0.         0.         0.         0.         0.         0.\n",
            "  0.         0.26850846 0.42516847 0.13332351 0.         0.\n",
            "  0.         0.         0.         0.        ]\n",
            " [0.         0.         0.         0.35407783 0.3544007  0.3240499\n",
            "  0.         0.         0.         0.         0.         0.\n",
            "  0.         0.         0.         0.         0.         0.\n",
            "  0.02599851 0.31325987 0.42516847 0.06904253 0.         0.\n",
            "  0.         0.         0.         0.        ]\n",
            " [0.         0.         0.         0.46915312 0.3544007  0.23856435\n",
            "  0.         0.         0.         0.         0.         0.\n",
            "  0.         0.         0.         0.         0.         0.\n",
            "  0.18425032 0.34445024 0.36156059 0.03809243 0.         0.\n",
            "  0.         0.         0.         0.        ]\n",
            " [0.         0.         0.         0.46915312 0.3544007  0.13319843\n",
            "  0.         0.         0.         0.         0.         0.\n",
            "  0.         0.         0.         0.05387565 0.34280637 0.33442521\n",
            "  0.28033177 0.34445024 0.15232414 0.         0.         0.\n",
            "  0.         0.         0.         0.        ]\n",
            " [0.         0.         0.         0.46915312 0.3544007  0.16898308\n",
            "  0.         0.         0.         0.1504842  0.17713556 0.41246938\n",
            "  0.51449576 0.60385769 0.86000157 0.93512735 0.93275221 0.33630401\n",
            "  0.27241918 0.34173804 0.06695566 0.         0.         0.\n",
            "  0.         0.         0.         0.        ]\n",
            " [0.         0.         0.         0.44259728 0.35300542 0.47116458\n",
            "  0.76003359 0.76003359 0.76003359 0.81005324 0.91821292 0.88894262\n",
            "  0.85749293 0.79709215 0.51029139 0.35019173 0.11161138 0.00939397\n",
            "  0.26337622 0.33902583 0.         0.         0.         0.\n",
            "  0.         0.         0.         0.        ]\n",
            " [0.         0.         0.         0.         0.16603812 0.35188241\n",
            "  0.64988379 0.64988379 0.64988379 0.56671709 0.35427113 0.19912315\n",
            "  0.         0.         0.         0.         0.         0.19163692\n",
            "  0.28711399 0.29834273 0.         0.         0.         0.\n",
            "  0.         0.         0.         0.        ]\n",
            " [0.         0.         0.         0.         0.         0.\n",
            "  0.         0.         0.         0.         0.         0.\n",
            "  0.         0.         0.         0.         0.         0.31751607\n",
            "  0.28711399 0.18578615 0.         0.         0.         0.\n",
            "  0.         0.         0.         0.        ]\n",
            " [0.         0.         0.         0.         0.         0.\n",
            "  0.         0.         0.         0.         0.         0.\n",
            "  0.         0.         0.         0.         0.         0.31751607\n",
            "  0.28711399 0.07729789 0.         0.         0.         0.\n",
            "  0.         0.         0.         0.        ]\n",
            " [0.         0.         0.         0.         0.         0.\n",
            "  0.         0.         0.         0.         0.         0.\n",
            "  0.         0.         0.         0.         0.         0.31751607\n",
            "  0.28711399 0.07729789 0.         0.         0.         0.\n",
            "  0.         0.         0.         0.        ]\n",
            " [0.         0.         0.         0.         0.         0.\n",
            "  0.         0.         0.         0.         0.         0.\n",
            "  0.         0.         0.         0.         0.         0.31751607\n",
            "  0.28824436 0.12747371 0.         0.         0.         0.\n",
            "  0.         0.         0.         0.        ]\n",
            " [0.         0.         0.         0.         0.         0.\n",
            "  0.         0.         0.         0.         0.         0.\n",
            "  0.         0.         0.         0.         0.         0.31751607\n",
            "  0.28711399 0.13018592 0.         0.         0.         0.\n",
            "  0.         0.         0.         0.        ]\n",
            " [0.         0.         0.         0.         0.         0.\n",
            "  0.         0.         0.         0.         0.         0.\n",
            "  0.         0.         0.         0.         0.         0.31751607\n",
            "  0.28711399 0.20748381 0.         0.         0.         0.\n",
            "  0.         0.         0.         0.        ]\n",
            " [0.         0.         0.         0.         0.         0.\n",
            "  0.         0.         0.         0.         0.         0.\n",
            "  0.         0.         0.         0.         0.         0.31751607\n",
            "  0.28824436 0.20748381 0.         0.         0.         0.\n",
            "  0.         0.         0.         0.        ]\n",
            " [0.         0.         0.         0.         0.         0.\n",
            "  0.         0.         0.         0.         0.         0.\n",
            "  0.         0.         0.         0.         0.         0.18036416\n",
            "  0.28711399 0.20748381 0.         0.         0.         0.\n",
            "  0.         0.         0.         0.        ]\n",
            " [0.         0.         0.         0.         0.         0.\n",
            "  0.         0.         0.         0.         0.         0.\n",
            "  0.         0.         0.         0.         0.         0.\n",
            "  0.         0.         0.         0.         0.         0.\n",
            "  0.         0.         0.         0.        ]\n",
            " [0.         0.         0.         0.         0.         0.\n",
            "  0.         0.         0.         0.         0.         0.\n",
            "  0.         0.         0.         0.         0.         0.\n",
            "  0.         0.         0.         0.         0.         0.\n",
            "  0.         0.         0.         0.        ]\n",
            " [0.         0.         0.         0.         0.         0.\n",
            "  0.         0.         0.         0.         0.         0.\n",
            "  0.         0.         0.         0.         0.         0.\n",
            "  0.         0.         0.         0.         0.         0.\n",
            "  0.         0.         0.         0.        ]]\n"
          ]
        }
      ]
    },
    {
      "cell_type": "code",
      "source": [
        "#Reshaping it to 4 dimensions to be able to get handled by Keras API \n",
        "train_x_reshape=np.array(train_x).reshape(-1,28,28,1) #-1 represents to apply operation to all\n",
        "test_x_reshape=np.array(test_x).reshape(-1,28,28,1)\n",
        "test_x_reshape.shape"
      ],
      "metadata": {
        "colab": {
          "base_uri": "https://localhost:8080/"
        },
        "id": "APexOmCVFqAO",
        "outputId": "f0509712-4c32-45f9-db9b-a0d747596c8a"
      },
      "execution_count": 10,
      "outputs": [
        {
          "output_type": "execute_result",
          "data": {
            "text/plain": [
              "(10000, 28, 28, 1)"
            ]
          },
          "metadata": {},
          "execution_count": 10
        }
      ]
    },
    {
      "cell_type": "code",
      "source": [
        "from keras.engine import input_layer\n",
        "#Creating a Deep Neural Network\n",
        "from keras.models import Sequential\n",
        "from keras.layers import Dense,Dropout,Activation,Flatten, Conv2D, MaxPooling2D\n",
        "\n",
        "#Initializing a neural network now\n",
        "digit_model=Sequential()\n",
        "\n",
        "#First Convolutional layer \n",
        "#Putting input layer from 1 to end as first has number of samples and it would automatically iterate over all, we just need to provide for only 1.\n",
        "digit_model.add(Conv2D(64,(3,3),input_shape=train_x_reshape.shape[1:]))\n",
        "\n",
        "#helps in making non linear and dropping all values less than 0, if any, and allows all >0 to move to next layer\n",
        "digit_model.add(Activation(\"relu\"))\n",
        "\n",
        "#Downsizing values by using maxpooling2d on 2x2 matrix which gives max over 2x2 matrices\n",
        "digit_model.add(MaxPooling2D(pool_size=(2,2)))\n",
        "\n",
        "\n",
        "#Second Convolutional layer to have better training\n",
        "digit_model.add(Conv2D(64,(3,3)))\n",
        "digit_model.add(Activation(\"relu\"))\n",
        "digit_model.add(MaxPooling2D(pool_size=(2,2)))"
      ],
      "metadata": {
        "id": "9MJEgR8xPrOV"
      },
      "execution_count": 11,
      "outputs": []
    },
    {
      "cell_type": "code",
      "source": [
        "#Now flattening layers from 2D to 1D as it works on 1D matrix, eg if 28x28 matrix converts to 28*28=784 elements in 1D\n",
        "digit_model.add(Flatten())\n",
        "digit_model.add(Dense(64));\n",
        "digit_model.add(Activation(\"relu\"))\n",
        "digit_model.add(Dropout(0.2))  #To prevent overfitting\n",
        "\n",
        "digit_model.add(Dense(32));\n",
        "digit_model.add(Activation(\"relu\"))\n",
        "digit_model.add(Dropout(0.2))\n",
        "\n",
        "#Final fully connected layer having number of classes = number of outputs, 10 in this case\n",
        "digit_model.add(Dense(10));\n",
        "digit_model.add(Activation(\"softmax\"))  #When multiclass outputs, gives class probablities, when binary use sigmoid\n"
      ],
      "metadata": {
        "id": "dIRee5febkpg"
      },
      "execution_count": 12,
      "outputs": []
    },
    {
      "cell_type": "code",
      "source": [
        "digit_model.summary()"
      ],
      "metadata": {
        "colab": {
          "base_uri": "https://localhost:8080/"
        },
        "id": "qFc-Dyi3eOZH",
        "outputId": "797b1fcb-7d36-4844-aa16-b9919fde05f0"
      },
      "execution_count": 13,
      "outputs": [
        {
          "output_type": "stream",
          "name": "stdout",
          "text": [
            "Model: \"sequential\"\n",
            "_________________________________________________________________\n",
            " Layer (type)                Output Shape              Param #   \n",
            "=================================================================\n",
            " conv2d (Conv2D)             (None, 26, 26, 64)        640       \n",
            "                                                                 \n",
            " activation (Activation)     (None, 26, 26, 64)        0         \n",
            "                                                                 \n",
            " max_pooling2d (MaxPooling2D  (None, 13, 13, 64)       0         \n",
            " )                                                               \n",
            "                                                                 \n",
            " conv2d_1 (Conv2D)           (None, 11, 11, 64)        36928     \n",
            "                                                                 \n",
            " activation_1 (Activation)   (None, 11, 11, 64)        0         \n",
            "                                                                 \n",
            " max_pooling2d_1 (MaxPooling  (None, 5, 5, 64)         0         \n",
            " 2D)                                                             \n",
            "                                                                 \n",
            " flatten (Flatten)           (None, 1600)              0         \n",
            "                                                                 \n",
            " dense (Dense)               (None, 64)                102464    \n",
            "                                                                 \n",
            " activation_2 (Activation)   (None, 64)                0         \n",
            "                                                                 \n",
            " dropout (Dropout)           (None, 64)                0         \n",
            "                                                                 \n",
            " dense_1 (Dense)             (None, 32)                2080      \n",
            "                                                                 \n",
            " activation_3 (Activation)   (None, 32)                0         \n",
            "                                                                 \n",
            " dropout_1 (Dropout)         (None, 32)                0         \n",
            "                                                                 \n",
            " dense_2 (Dense)             (None, 10)                330       \n",
            "                                                                 \n",
            " activation_4 (Activation)   (None, 10)                0         \n",
            "                                                                 \n",
            "=================================================================\n",
            "Total params: 142,442\n",
            "Trainable params: 142,442\n",
            "Non-trainable params: 0\n",
            "_________________________________________________________________\n"
          ]
        }
      ]
    },
    {
      "cell_type": "code",
      "source": [
        "digit_model.compile(loss=\"sparse_categorical_crossentropy\",optimizer=\"adam\",metrics=['accuracy'])"
      ],
      "metadata": {
        "id": "gf7iKkTFfHP-"
      },
      "execution_count": 14,
      "outputs": []
    },
    {
      "cell_type": "code",
      "source": [
        "len(train_x_reshape)"
      ],
      "metadata": {
        "colab": {
          "base_uri": "https://localhost:8080/"
        },
        "id": "pNWbix65heM-",
        "outputId": "6ad6b34d-29d1-4fb8-8c6e-e0d873bd29e8"
      },
      "execution_count": 15,
      "outputs": [
        {
          "output_type": "execute_result",
          "data": {
            "text/plain": [
              "60000"
            ]
          },
          "metadata": {},
          "execution_count": 15
        }
      ]
    },
    {
      "cell_type": "code",
      "source": [
        "#Callbacks \n",
        "from keras.callbacks import EarlyStopping, ModelCheckpoint\n",
        "\n",
        "#Earlystopping: stop executing when monitoring metric stopped improving\n",
        "stop=EarlyStopping(monitor='val_acc',min_delta=0.01,patience=2,verbose=1)\n",
        "#ModelCheckPoint to save the best model\n",
        "modelch=ModelCheckpoint('/content/bestmodelachieved.h5',monitor='val_acc',verbose=1,save_best_only=True)\n"
      ],
      "metadata": {
        "id": "OpQSV31g7s5D"
      },
      "execution_count": 16,
      "outputs": []
    },
    {
      "cell_type": "code",
      "source": [
        "mod=digit_model.fit(train_x_reshape,train_y,epochs=5,validation_split=0.3,callbacks=[stop,modelch])"
      ],
      "metadata": {
        "colab": {
          "base_uri": "https://localhost:8080/"
        },
        "id": "pbPWK1yxfkpI",
        "outputId": "5ecffaca-ee6d-419c-a4c5-a6f6c57c702d"
      },
      "execution_count": 17,
      "outputs": [
        {
          "output_type": "stream",
          "name": "stdout",
          "text": [
            "Epoch 1/5\n",
            "1313/1313 [==============================] - ETA: 0s - loss: 0.3630 - accuracy: 0.8899WARNING:tensorflow:Early stopping conditioned on metric `val_acc` which is not available. Available metrics are: loss,accuracy,val_loss,val_accuracy\n",
            "WARNING:tensorflow:Can save best model only with val_acc available, skipping.\n",
            "1313/1313 [==============================] - 66s 49ms/step - loss: 0.3630 - accuracy: 0.8899 - val_loss: 0.0896 - val_accuracy: 0.9737\n",
            "Epoch 2/5\n",
            "1313/1313 [==============================] - ETA: 0s - loss: 0.1230 - accuracy: 0.9666WARNING:tensorflow:Early stopping conditioned on metric `val_acc` which is not available. Available metrics are: loss,accuracy,val_loss,val_accuracy\n",
            "WARNING:tensorflow:Can save best model only with val_acc available, skipping.\n",
            "1313/1313 [==============================] - 65s 50ms/step - loss: 0.1230 - accuracy: 0.9666 - val_loss: 0.0691 - val_accuracy: 0.9817\n",
            "Epoch 3/5\n",
            "1312/1313 [============================>.] - ETA: 0s - loss: 0.0888 - accuracy: 0.9757WARNING:tensorflow:Early stopping conditioned on metric `val_acc` which is not available. Available metrics are: loss,accuracy,val_loss,val_accuracy\n",
            "WARNING:tensorflow:Can save best model only with val_acc available, skipping.\n",
            "1313/1313 [==============================] - 65s 49ms/step - loss: 0.0889 - accuracy: 0.9756 - val_loss: 0.0743 - val_accuracy: 0.9798\n",
            "Epoch 4/5\n",
            "1313/1313 [==============================] - ETA: 0s - loss: 0.0711 - accuracy: 0.9799WARNING:tensorflow:Early stopping conditioned on metric `val_acc` which is not available. Available metrics are: loss,accuracy,val_loss,val_accuracy\n",
            "WARNING:tensorflow:Can save best model only with val_acc available, skipping.\n",
            "1313/1313 [==============================] - 87s 66ms/step - loss: 0.0711 - accuracy: 0.9799 - val_loss: 0.0478 - val_accuracy: 0.9866\n",
            "Epoch 5/5\n",
            "1312/1313 [============================>.] - ETA: 0s - loss: 0.0574 - accuracy: 0.9837WARNING:tensorflow:Early stopping conditioned on metric `val_acc` which is not available. Available metrics are: loss,accuracy,val_loss,val_accuracy\n",
            "WARNING:tensorflow:Can save best model only with val_acc available, skipping.\n",
            "1313/1313 [==============================] - 86s 65ms/step - loss: 0.0574 - accuracy: 0.9837 - val_loss: 0.0559 - val_accuracy: 0.9856\n"
          ]
        }
      ]
    },
    {
      "cell_type": "code",
      "source": [
        "#Now lets check accuracy for testing data set\n",
        "\n",
        "loss_val, accuracy_val=digit_model.evaluate(test_x_reshape,test_y)\n",
        "print(loss_val)\n",
        "print(accuracy_val)"
      ],
      "metadata": {
        "colab": {
          "base_uri": "https://localhost:8080/"
        },
        "id": "NFwrm2SRilwK",
        "outputId": "2ce3ca69-fe3d-4b3d-8df5-a318b50c4fd4"
      },
      "execution_count": 18,
      "outputs": [
        {
          "output_type": "stream",
          "name": "stdout",
          "text": [
            "313/313 [==============================] - 4s 13ms/step - loss: 0.0452 - accuracy: 0.9875\n",
            "0.04520765691995621\n",
            "0.987500011920929\n"
          ]
        }
      ]
    },
    {
      "cell_type": "code",
      "source": [
        "len(test_x_reshape)"
      ],
      "metadata": {
        "colab": {
          "base_uri": "https://localhost:8080/"
        },
        "id": "LHSf7vjDkA-N",
        "outputId": "0fe25b11-5367-4366-cd87-402756b6cc4c"
      },
      "execution_count": 19,
      "outputs": [
        {
          "output_type": "execute_result",
          "data": {
            "text/plain": [
              "10000"
            ]
          },
          "metadata": {},
          "execution_count": 19
        }
      ]
    },
    {
      "cell_type": "code",
      "source": [
        "predicted_values=digit_model.predict([test_x_reshape])"
      ],
      "metadata": {
        "id": "jBGtzXlCkjB3"
      },
      "execution_count": 20,
      "outputs": []
    },
    {
      "cell_type": "code",
      "source": [
        "print(predicted_values[1000])\n",
        "plt.imshow(test_x[1000])\n",
        "print(np.argmax(predicted_values[1000]))"
      ],
      "metadata": {
        "colab": {
          "base_uri": "https://localhost:8080/",
          "height": 319
        },
        "id": "OmXsa2lSkvGl",
        "outputId": "8dcb309b-3584-4604-9af8-5910218b6692"
      },
      "execution_count": 21,
      "outputs": [
        {
          "output_type": "stream",
          "name": "stdout",
          "text": [
            "[5.1333755e-09 3.9888741e-09 2.7327394e-09 1.0063284e-06 3.2485470e-05\n",
            " 5.3849649e-06 8.6417568e-11 3.2985160e-06 6.8313636e-07 9.9995708e-01]\n",
            "9\n"
          ]
        },
        {
          "output_type": "display_data",
          "data": {
            "text/plain": [
              "<Figure size 432x288 with 1 Axes>"
            ],
            "image/png": "[encoded data removed]"
          },
          "metadata": {
            "needs_background": "light"
          }
        }
      ]
    },
    {
      "cell_type": "code",
      "source": [
        "predicted_y_digits=[np.argmax(i) for i in predicted_values]"
      ],
      "metadata": {
        "id": "SmVeJkxjlCZ5"
      },
      "execution_count": 22,
      "outputs": []
    },
    {
      "cell_type": "code",
      "source": [
        "print(predicted_y_digits[103:115])\n",
        "print(test_y[103:115])\n",
        "\n",
        "#Pretty Perfect"
      ],
      "metadata": {
        "colab": {
          "base_uri": "https://localhost:8080/"
        },
        "id": "fG19zqSBmNLu",
        "outputId": "9e4b7ea0-e8ec-44d4-e132-6d92a51f0fd3"
      },
      "execution_count": 23,
      "outputs": [
        {
          "output_type": "stream",
          "name": "stdout",
          "text": [
            "[4, 9, 9, 2, 1, 9, 4, 8, 7, 3, 9, 7]\n",
            "[4 9 9 2 1 9 4 8 7 3 9 7]\n"
          ]
        }
      ]
    },
    {
      "cell_type": "code",
      "source": [
        "#Confusion matrix for raw visualization\n",
        "conf_matrix=tf.math.confusion_matrix(labels=test_y,predictions=predicted_y_digits)\n",
        "print(conf_matrix)\n",
        "\n",
        "#Pretty fine"
      ],
      "metadata": {
        "colab": {
          "base_uri": "https://localhost:8080/"
        },
        "id": "rJL8rzH5ma3h",
        "outputId": "c0c6e742-9d19-4d85-c810-aba8a28cab99"
      },
      "execution_count": 24,
      "outputs": [
        {
          "output_type": "stream",
          "name": "stdout",
          "text": [
            "tf.Tensor(\n",
            "[[ 975    1    0    0    0    0    2    2    0    0]\n",
            " [   0 1132    3    0    0    0    0    0    0    0]\n",
            " [   3    0 1023    0    1    0    1    3    1    0]\n",
            " [   0    0    2  994    0    6    0    5    2    1]\n",
            " [   1    0    0    0  974    0    4    0    0    3]\n",
            " [   2    0    0    7    1  878    1    1    1    1]\n",
            " [   7    3    1    0    2    3  939    0    3    0]\n",
            " [   0    4    4    1    1    0    0 1015    1    2]\n",
            " [   3    1    1    1    3    1    0    1  956    7]\n",
            " [   2    4    0    0    6    1    0    7    0  989]], shape=(10, 10), dtype=int32)\n"
          ]
        }
      ]
    },
    {
      "cell_type": "code",
      "source": [
        "#Plotting confusion matrix for better visualisation\n",
        "import seaborn as sns\n",
        "plt.figure(figsize=(20,20))\n",
        "sns.heatmap(conf_matrix, cbar=True, square=True, annot=True)\n",
        "plt.xlabel(\"Predicted Digit\")\n",
        "plt.xlabel(\"True Digit\")"
      ],
      "metadata": {
        "colab": {
          "base_uri": "https://localhost:8080/",
          "height": 1000
        },
        "id": "cEFsV9GGfpYe",
        "outputId": "78433887-239a-4680-9f96-ea4202156d47"
      },
      "execution_count": 29,
      "outputs": [
        {
          "output_type": "execute_result",
          "data": {
            "text/plain": [
              "Text(0.5, 256.19999999999993, 'True Digit')"
            ]
          },
          "metadata": {},
          "execution_count": 29
        },
        {
          "output_type": "display_data",
          "data": {
            "text/plain": [
              "<Figure size 1440x1440 with 2 Axes>"
            ],
            "image/png": "[encoded data removed]"
          },
          "metadata": {
            "needs_background": "light"
          }
        }
      ]
    },
    {
      "cell_type": "code",
      "source": [
        "#Now manually checking by my own values\n",
        "import cv2\n",
        "image=cv2.imread('/content/Untitled.png')\n",
        "plt.imshow(image)\n",
        "\n",
        "#Converting to gray from RGB\n",
        "gray_image=cv2.cvtColor(image,cv2.COLOR_BGR2GRAY)\n",
        "plt.imshow(gray_image)\n",
        "\n",
        "gray_image.shape #648 1152\n",
        "\n",
        "#converting to 28x28\n",
        "resized_image=cv2.resize(gray_image,(28,28), interpolation=cv2.INTER_AREA)\n",
        "plt.imshow(resized_image)\n",
        "\n",
        "#Converting to model readable format\n",
        "normalized_image=keras.utils.normalize(resized_image,axis=1)\n",
        "normalized_image=np.array(normalized_image).reshape(-1,28,28,1) #Adding 1 more dimesnion for kernel operation\n",
        "normalized_image.shape"
      ],
      "metadata": {
        "colab": {
          "base_uri": "https://localhost:8080/",
          "height": 283
        },
        "id": "6aTOaHBJnbti",
        "outputId": "2ac67768-8c60-45b3-9795-a3bec8ad47fc"
      },
      "execution_count": 32,
      "outputs": [
        {
          "output_type": "execute_result",
          "data": {
            "text/plain": [
              "(1, 28, 28, 1)"
            ]
          },
          "metadata": {},
          "execution_count": 32
        },
        {
          "output_type": "display_data",
          "data": {
            "text/plain": [
              "<Figure size 432x288 with 1 Axes>"
            ],
            "image/png": "[encoded data removed]"
          },
          "metadata": {
            "needs_background": "light"
          }
        }
      ]
    },
    {
      "cell_type": "code",
      "source": [
        "check=digit_model.predict(normalized_image)\n",
        "print(\"Predicted Digit: \"+str(np.argmax(check)))"
      ],
      "metadata": {
        "colab": {
          "base_uri": "https://localhost:8080/"
        },
        "id": "lTZ-QID_tT-c",
        "outputId": "5c936e2d-bb9f-48fc-e2b0-6f0f53e5d893"
      },
      "execution_count": 36,
      "outputs": [
        {
          "output_type": "stream",
          "name": "stdout",
          "text": [
            "Predicted Digit: 6\n"
          ]
        }
      ]
    }
  ]
}